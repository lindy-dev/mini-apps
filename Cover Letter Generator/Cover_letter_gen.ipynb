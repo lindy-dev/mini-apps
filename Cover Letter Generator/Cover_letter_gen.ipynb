{
 "cells": [
  {
   "cell_type": "markdown",
   "metadata": {},
   "source": [
    "## Cover Letter Generator"
   ]
  },
  {
   "cell_type": "code",
   "execution_count": 1,
   "metadata": {},
   "outputs": [
    {
     "name": "stderr",
     "output_type": "stream",
     "text": [
      "c:\\Users\\shrey\\AppData\\Local\\pypoetry\\Cache\\virtualenvs\\cover_letter_generator-uTEuZp16-py3.11\\Lib\\site-packages\\tqdm\\auto.py:21: TqdmWarning: IProgress not found. Please update jupyter and ipywidgets. See https://ipywidgets.readthedocs.io/en/stable/user_install.html\n",
      "  from .autonotebook import tqdm as notebook_tqdm\n"
     ]
    }
   ],
   "source": [
    "# Import necessary libraries\n",
    "import ollama \n",
    "import gradio as gr"
   ]
  },
  {
   "cell_type": "markdown",
   "metadata": {},
   "source": [
    "### Test Ollama installation"
   ]
  },
  {
   "cell_type": "code",
   "execution_count": null,
   "metadata": {},
   "outputs": [
    {
     "name": "stdout",
     "output_type": "stream",
     "text": [
      "The sky appears blue during the day due to a process called Rayleigh scattering. When sunlight enters the Earth's atmosphere, it encounters molecules and small particles in the air.\n",
      "\n",
      "Sunlight consists of different colors, each with its own wavelength. Blue light has a shorter wavelength compared to other colors like red or yellow, which have longer wavelengths. As sunlight passes through the Earth's atmosphere, the blue light is scattered in many different directions by the gases and particles in the atmosphere much more effectively than the other colors.\n",
      "\n",
      "This scattering of blue light is what makes the sky appear blue during clear days when you look up. During sunrise and sunset, the sky often takes on a red or orange hue because as the sun gets lower in the sky, its light has to pass through more of Earth's atmosphere, causing shorter wavelengths (like blue and green) to scatter out even more and leaving longer wavelengths like red and orange.\n",
      "\n",
      "In summary, it’s the scattering of short-wavelength light by the gases and particles in the air that makes the sky appear blue!\n"
     ]
    }
   ],
   "source": [
    "# Test ollama installation\n",
    "response = ollama.chat(\n",
    "    model=\"qwen2.5:latest\",\n",
    "    messages=[\n",
    "        {\n",
    "            \"role\": \"user\",\n",
    "            \"content\": \"Why is the sky blue?\",\n",
    "        },\n",
    "    ],\n",
    ")\n",
    "print(response[\"message\"][\"content\"])"
   ]
  },
  {
   "cell_type": "markdown",
   "metadata": {},
   "source": [
    "### Test App Installation"
   ]
  },
  {
   "cell_type": "code",
   "execution_count": 2,
   "metadata": {},
   "outputs": [],
   "source": [
    "# STEP 1: Update your resume\n",
    "resume = \"\"\"EDUCATION\n",
    "University of Maryland, Smith School of Business\tCollege Park, MD, USA\n",
    "Master of Business Administration, GPA 3.71/4.00\tAug 2022—Jun 2024\n",
    "●\tElected as the Student Track Representative to represent 1st year MBA students in the MBAA board meetings\n",
    "●\tTeaching Assistant for Managerial Economics (Term A, Fall 2023) \n",
    "●\tCo-organised the “Winternship Challenge” to encourage 1st year MBA students to clinch their dream internships and enabled 60% of the participants to secure internships\n",
    "  \n",
    "National University of Singapore                                                                                                                                       Singapore\n",
    "Bachelor of Engineering, Mechanical Engineering\tAug 2011—Jun 2015\n",
    "●\tSelected to the University Scholars Program - a multidisciplinary academic program that accepts only 3% of each undergraduate-student cohort\n",
    "\n",
    "EXPERIENCE\n",
    "Open Government Products – Partnerships Intern\tSingapore\n",
    "An experimental product development division (under GovTech Singapore)                                         May 2023—Aug 2023 \n",
    "●\tLaunched a CRM across functions for improved stakeholder relationship management and knowledge sharing\n",
    "●\tMentored a team that won the SGD 10,000 sponsorship prize in the Build for Good citizen hackathon \n",
    "●\tDesigned learning material (slides and videos) on prompt engineering for programming and writing using Pair (a safe and secure version of ChatGPT for Singapore Government officers) \n",
    "\n",
    "Vymo - Frontend Engineer\tBengaluru, India\n",
    "B2B SaaS sales enablement app for enterprise sales and service teams                                                   Apr 2021—Apr 2022\n",
    "●\tRedesigned and developed the company website to improve customer interface and visitor experience\n",
    "\n",
    "Solar Energy Research Institute of Singapore (SERIS) - Research Engineer / Software Engineer\tSingapore\n",
    "Singapore’s national institute for applied solar energy research                                                               Aug 2019—Oct 2020\n",
    "●\tDevised computer vision algorithm that detected solar modules in drone videos with 92% accuracy, enabling detection of defects within focused areas of solar panels\n",
    "\n",
    "H3Zoom.ai - Technical Support Engineer / Software Engineer\tSingapore\n",
    "Series B tech startup for AI-enabled, drone-led construction inspections\tSept 2018—Jul 2019\n",
    "●\tDevised and implemented image-annotation pipeline that was 300% faster than previous methods \n",
    "\n",
    "Air Liquide - Quality Admin Assistant (3-month contract role)\tSingapore\n",
    "Supplier of industrial gases and related services to various manufacturing companies                        Mar 2017—Jun 2017\n",
    "●\tConducted outgoing quality checks on certificates of analysis for key customers (e.g., Micron, TSMC)\n",
    "\n",
    "Miclyn Express Offshore (MEO) - Management Trainee\tSingapore\n",
    "Provider of specialized marine support and transportation solutions for oil and gas industry         Nov 2015—Mar 2017\n",
    "●\tPrepared several multi-million-dollar vessel tender submissions for national oil companies and international oil companies in ASEAN and Middle East region\n",
    "RELEVANT CERTIFICATIONS \n",
    "●\tMulti AI Agent Systems with crewAI (Link to certificate), Skills: crewAI, Agentic AI\n",
    "●\tBuilding Agentic RAG with Llamaindex (Link to certificate), Skills: Llamaindex, Agentic AI\n",
    "●\tChatGPT Prompt Engineering for Developers (Link to certificate), Skills: ChatGPT, Prompt Engineering\n",
    "●\tFigma UI UX Design Essentials (Link to certificate), Skills: Figma, UI/UX\n",
    "\n",
    "\"\"\""
   ]
  },
  {
   "cell_type": "code",
   "execution_count": 3,
   "metadata": {},
   "outputs": [],
   "source": [
    "job_desc = f\"\"\"About the job\n",
    "DUBAI BASED ROLE. Relocation would be required but with a highly competitive, tax free salary package.\n",
    "\n",
    "\n",
    "\n",
    "Company Profile:\n",
    "\n",
    "\n",
    "\n",
    "Property Finder is the leading digital real estate platform in the Middle East and North Africa region.\n",
    "A UAE-born startup, Property Finder expanded its operations to Qatar, Bahrain, Saudi Arabia, Egypt and Turkey over the years\n",
    "The company is one of the largest technology start-ups in the region and a recent Unicorn.\n",
    "\n",
    "\n",
    "Overview\n",
    "\n",
    "\n",
    "\n",
    "Within the Strategy & Analytics team, Property Finder is is seeking a Business Analytics Associate who will collaborate with various departments to establish a top-tier analytical environment for our organization.\n",
    "\n",
    "\n",
    "Key Responsibilities\n",
    "\n",
    "\n",
    "\n",
    "Build Visual reporting tools that will engage our partners in a way that makes our data easy to digest and understand whilst giving actionable insights for them.\n",
    "Responsible for high-priority data requests & reporting within the Central Functions (e.g. Business Performance, Strategy & Transformation, Commercial Finance, HR).\n",
    "Partnering with the Data Engineering team in our journey to establish an exceptional self-service analytics environment.\n",
    "Partnering with the Business Performance Team to maintain & produce essential recurring business performance reports on a daily, weekly, and monthly basis.\n",
    "Maintaining vigilance over data quality to ensure accuracy and reliability, serving as the primary source of truth..\n",
    "\n",
    "\n",
    "Desired Qualifications:\n",
    "\n",
    "\n",
    "\n",
    "3+ years of experience working as analyst in Business Analytics in a reputable tech company or a top tier management consulting company.\n",
    "Exceptional SQL and Tableau knowledge\n",
    "Exceptional analytical and quantitative problem-solving skills\n",
    "Experience in putting together presentations for senior audiences with a storyline\n",
    "Exceptional written and verbal communication skills with experience in presenting technical content to audiences\n",
    "Can do attitude (We get things done, no excuses)\n",
    "Ability to work with different functions to drive insights\n",
    "Having an eye on detail, immediately picking up issues on trends, knowing where to look at and what to search for.\n",
    "A dynamic, focused and self-motivated person with ability to manage multiple tasks simultaneously\n",
    "Proven record of high performance and achievements in education life and career\n",
    "Fluency in English\n",
    "Graduate/Postgraduate from top tier institute, engineering background is preferred.\"\"\""
   ]
  },
  {
   "cell_type": "code",
   "execution_count": null,
   "metadata": {},
   "outputs": [
    {
     "name": "stdout",
     "output_type": "stream",
     "text": [
      "[Your Name]  \n",
      "[Your Address]  \n",
      "[City, Postal Code]  \n",
      "[Email Address]  \n",
      "[Phone Number]  \n",
      "[Date]\n",
      "\n",
      "Hiring Manager  \n",
      "Property Finder  \n",
      "Dubai, UAE  \n",
      "\n",
      "Dear Hiring Manager,\n",
      "\n",
      "I am excited to apply for the Business Analytics Associate position at Property Finder in Dubai. With a robust background in analytics and a strong track record of delivering high-impact solutions, I am confident that my skills align well with your team's objectives.\n",
      "\n",
      "My Master’s degree from the University of Maryland, Smith School of Business, combined with my experience as an Analyst at Open Government Products and Vymo, has equipped me with exceptional SQL and Tableau knowledge. Additionally, my role as a Technical Support Engineer at Solar Energy Research Institute of Singapore honed my ability to devise and implement complex algorithms, ensuring data accuracy and reliability—a critical skill for maintaining the integrity of our analytical environment.\n",
      "\n",
      "I am particularly drawn to Property Finder’s mission to lead the digital real estate market in the Middle East. My experience collaborating across diverse functions and driving insights through visual reporting tools aligns perfectly with your team's goals. I am eager to contribute my expertise in creating engaging, actionable reports that will drive strategic decision-making within the organization.\n",
      "\n",
      "Thank you for considering my application. I look forward to the opportunity to discuss how my background and skills can support Property Finder’s continued growth and success.\n",
      "\n",
      "Sincerely,\n",
      "\n",
      "[Your Name]\n"
     ]
    }
   ],
   "source": [
    "response = ollama.chat(\n",
    "    model=\"qwen2.5:latest\",\n",
    "    options={\"temperature\": 0},\n",
    "    messages=[\n",
    "        {\"role\": \"system\", \"content\": \"You are an expert cover letter writer.\"},\n",
    "        {\n",
    "            \"role\": \"user\",\n",
    "            \"content\": f\"\"\"Write a concise cover letter based on the following \n",
    "\n",
    "            job description: {job_desc}\n",
    "            \n",
    "\n",
    "            Resume: {resume}\n",
    "\n",
    "            Ensure that the cover letter is concise and not more than 4 paragraphs long.\n",
    "        \n",
    "        \"\"\",\n",
    "        },\n",
    "    ],\n",
    ")\n",
    "print(response[\"message\"][\"content\"])"
   ]
  },
  {
   "cell_type": "code",
   "execution_count": 3,
   "metadata": {},
   "outputs": [],
   "source": [
    "def generate_cover_letter(resume, job_desc):\n",
    "    response = ollama.chat(\n",
    "        model=\"qwen2.5:latest\",\n",
    "        options={\"temperature\": 0},\n",
    "        messages=[\n",
    "            {\"role\": \"system\", \"content\": \"You are an expert cover letter writer.\"},\n",
    "            {\n",
    "                \"role\": \"user\",\n",
    "                \"content\": f\"\"\"Write a concise cover letter based on the following \n",
    "\n",
    "            job description: {job_desc}\n",
    "            \n",
    "\n",
    "            Resume: {resume}\n",
    "\n",
    "            Ensure that the cover letter is concise and not more than 4 paragraphs long.\n",
    "        \n",
    "        \"\"\",\n",
    "            },\n",
    "        ],\n",
    "    )\n",
    "    return(response[\"message\"][\"content\"])"
   ]
  },
  {
   "cell_type": "markdown",
   "metadata": {},
   "source": []
  },
  {
   "cell_type": "code",
   "execution_count": 4,
   "metadata": {},
   "outputs": [
    {
     "name": "stdout",
     "output_type": "stream",
     "text": [
      "* Running on local URL:  http://127.0.0.1:7860\n",
      "\n",
      "To create a public link, set `share=True` in `launch()`.\n"
     ]
    },
    {
     "data": {
      "text/html": [
       "<div><iframe src=\"http://127.0.0.1:7860/\" width=\"100%\" height=\"500\" allow=\"autoplay; camera; microphone; clipboard-read; clipboard-write;\" frameborder=\"0\" allowfullscreen></iframe></div>"
      ],
      "text/plain": [
       "<IPython.core.display.HTML object>"
      ]
     },
     "metadata": {},
     "output_type": "display_data"
    },
    {
     "data": {
      "text/plain": []
     },
     "execution_count": 4,
     "metadata": {},
     "output_type": "execute_result"
    }
   ],
   "source": [
    "with gr.Blocks(title=\"Cover Letter Generator\") as demo:\n",
    "    header = gr.HTML(\"<h1>Cover Letter Generator</h1>\")\n",
    "    with gr.Row():\n",
    "        with gr.Column():\n",
    "            resume = gr.Textbox(label=\"Resume\", lines=3, placeholder=\"Enter your resume\")\n",
    "            job_desc = gr.Textbox(label=\"Job Description\", lines=3, placeholder=\"Enter your dream job\")\n",
    "            greet_btn = gr.Button(\"Generate Cover Letter\")\n",
    "        with gr.Column():\n",
    "            output = gr.Textbox(\n",
    "                label=\"Generated Cover Letter\",lines=12 \n",
    "            )\n",
    "\n",
    "    greet_btn.click(fn=generate_cover_letter, inputs=[resume, job_desc], outputs=output, api_name=\"cover_letter_gen\")\n",
    "\n",
    "demo.launch()"
   ]
  },
  {
   "cell_type": "code",
   "execution_count": 5,
   "metadata": {},
   "outputs": [
    {
     "name": "stdout",
     "output_type": "stream",
     "text": [
      "Closing server running on port: 7860\n"
     ]
    }
   ],
   "source": [
    "demo.close()"
   ]
  },
  {
   "cell_type": "code",
   "execution_count": null,
   "metadata": {},
   "outputs": [],
   "source": []
  }
 ],
 "metadata": {
  "kernelspec": {
   "display_name": "cover_letter_generator-uTEuZp16-py3.11",
   "language": "python",
   "name": "python3"
  },
  "language_info": {
   "codemirror_mode": {
    "name": "ipython",
    "version": 3
   },
   "file_extension": ".py",
   "mimetype": "text/x-python",
   "name": "python",
   "nbconvert_exporter": "python",
   "pygments_lexer": "ipython3",
   "version": "3.11.0"
  }
 },
 "nbformat": 4,
 "nbformat_minor": 2
}
